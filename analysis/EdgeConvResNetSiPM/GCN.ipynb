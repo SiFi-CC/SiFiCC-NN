{
 "cells": [
  {
   "cell_type": "code",
   "execution_count": 61,
   "metadata": {},
   "outputs": [],
   "source": [
    "import numpy as np\n",
    "import tensorflow as tf\n",
    "from tensorflow.keras.models import Model\n",
    "from tensorflow.keras.layers import Dense, Input\n",
    "from spektral.layers import GCNConv\n",
    "from spektral.data import Graph, Dataset\n",
    "from spektral.data.loaders import DisjointLoader\n",
    "from spektral.transforms import LayerPreprocess"
   ]
  },
  {
   "cell_type": "code",
   "execution_count": 62,
   "metadata": {},
   "outputs": [],
   "source": [
    "# Parameters\n",
    "num_graphs = 1000\n",
    "min_nodes = 5\n",
    "max_nodes = 15\n",
    "node_feature_ranges = [(0, 5000), (0, 10)]\n",
    "edge_feature_ranges = [(0, 30), (-50, 50)]\n"
   ]
  },
  {
   "cell_type": "code",
   "execution_count": 63,
   "metadata": {},
   "outputs": [],
   "source": [
    "# Function to generate a random graph\n",
    "def generate_random_graph():\n",
    "    n_nodes = np.random.randint(min_nodes, max_nodes + 1)\n",
    "    node_features = np.column_stack([\n",
    "        np.random.uniform(low, high, n_nodes) for low, high in node_feature_ranges\n",
    "    ])\n",
    "    adj_matrix = np.random.randint(0, 2, (n_nodes, n_nodes)).astype(np.float32)\n",
    "    np.fill_diagonal(adj_matrix, 0)  # No self-loops\n",
    "\n",
    "    # Generate edge features\n",
    "    edge_features = []\n",
    "    for i in range(n_nodes):\n",
    "        for j in range(i + 1, n_nodes):\n",
    "            if adj_matrix[i, j] > 0:\n",
    "                edge_feature = np.array([\n",
    "                    np.random.uniform(low, high) for low, high in edge_feature_ranges\n",
    "                ])\n",
    "                edge_features.append(edge_feature)\n",
    "    edge_features = np.array(edge_features)\n",
    "\n",
    "    return Graph(x=node_features, a=adj_matrix, e=edge_features)"
   ]
  },
  {
   "cell_type": "code",
   "execution_count": 64,
   "metadata": {},
   "outputs": [],
   "source": [
    "# Create a dataset using Spektral's data structure\n",
    "class MyGraphDataset(Dataset):\n",
    "    def read(self):\n",
    "        return [generate_random_graph() for _ in range(num_graphs)]"
   ]
  },
  {
   "cell_type": "code",
   "execution_count": 65,
   "metadata": {},
   "outputs": [],
   "source": [
    "# Define the GCN Model\n",
    "class EdgeFeatureGCN(Model):\n",
    "    def __init__(self, n_hidden, n_edge_features):\n",
    "        super().__init__()\n",
    "        \n",
    "        # GCN layers to process node features\n",
    "        self.gcn1 = GCNConv(n_hidden, activation='relu')\n",
    "        self.gcn2 = GCNConv(n_hidden, activation='relu')\n",
    "        \n",
    "        # Dense layer for edge feature prediction (MLP for edge features)\n",
    "        self.edge_predictor = Dense(n_edge_features, activation='linear')\n",
    "\n",
    "    def build(self, input_shape):\n",
    "        self.gcn1.build(input_shape)\n",
    "        self.gcn2.build(input_shape)\n",
    "        self.edge_predictor.build((input_shape[0][0], input_shape[0][1] * 2))\n",
    "        super().build(input_shape)\n",
    "\n",
    "    def call(self, inputs):\n",
    "        x, a = inputs  # Node features (x) and adjacency matrix (a)\n",
    "        \n",
    "        # Ensure no None values\n",
    "        if x is None or a is None:\n",
    "            raise ValueError(\"Node features and adjacency matrix must not be None\")\n",
    "        \n",
    "        # Ensure adjacency matrix is float32\n",
    "        a = tf.cast(a, tf.float32)\n",
    "        \n",
    "        # GCN layers\n",
    "        h = self.gcn1([x, a])\n",
    "        h = self.gcn2([h, a])\n",
    "        \n",
    "        # Predict edge features using node embeddings\n",
    "        edge_features = []\n",
    "        for i in range(x.shape[0]):\n",
    "            for j in range(i + 1, x.shape[0]):  # Iterate over node pairs\n",
    "                if a[i, j] > 0:  # Only consider connected nodes\n",
    "                    # Concatenate or take difference between node embeddings\n",
    "                    node_pair_embedding = tf.concat([h[i], h[j]], axis=-1)\n",
    "                    \n",
    "                    # Predict edge feature for node pair (i, j)\n",
    "                    predicted_edge_feature = self.edge_predictor(node_pair_embedding)\n",
    "                    edge_features.append(predicted_edge_feature)\n",
    "\n",
    "        return tf.stack(edge_features)"
   ]
  },
  {
   "cell_type": "code",
   "execution_count": 66,
   "metadata": {},
   "outputs": [],
   "source": [
    "\n",
    "# Instantiate and compile the model\n",
    "n_hidden = 16  # Number of hidden units in GCN\n",
    "n_edge_features = 2  # Number of edge features to predict\n",
    "model = EdgeFeatureGCN(n_hidden=n_hidden, n_edge_features=n_edge_features)\n",
    "\n"
   ]
  },
  {
   "cell_type": "code",
   "execution_count": 67,
   "metadata": {},
   "outputs": [],
   "source": [
    "\n",
    "# Compile the model (assuming you have the ground truth edge features for training)\n",
    "model.compile(optimizer='adam', loss='mse')\n"
   ]
  },
  {
   "cell_type": "code",
   "execution_count": 68,
   "metadata": {},
   "outputs": [],
   "source": [
    "\n",
    "# Prepare data loader\n",
    "dataset = MyGraphDataset()\n",
    "loader = DisjointLoader(dataset)"
   ]
  },
  {
   "cell_type": "code",
   "execution_count": 70,
   "metadata": {},
   "outputs": [],
   "source": [
    "# Modify the loader to return data in the format (x, y)\n",
    "def format_loader(loader):\n",
    "    for batch in loader:\n",
    "        x, a, e, i = batch\n",
    "        yield (x, a), e\n"
   ]
  },
  {
   "cell_type": "code",
   "execution_count": 72,
   "metadata": {},
   "outputs": [
    {
     "name": "stdout",
     "output_type": "stream",
     "text": [
      "Epoch 1/10\n"
     ]
    },
    {
     "name": "stderr",
     "output_type": "stream",
     "text": [
      "/home/philippe/anaconda3/envs/Master/lib/python3.12/site-packages/spektral/data/utils.py:221: UserWarning: you are shuffling a 'MyGraphDataset' object which is not a subclass of 'Sequence'; `shuffle` is not guaranteed to behave correctly. E.g., non-numpy array/tensor objects with view semantics may contain duplicates after shuffling.\n",
      "  np.random.shuffle(a)\n"
     ]
    },
    {
     "ename": "ValueError",
     "evalue": "Exception encountered when calling GCNConv.call().\n\n\u001b[1mTried to convert 'y' to a tensor and failed. Error: None values not supported.\u001b[0m\n\nArguments received by GCNConv.call():\n  • inputs=['tf.Tensor(shape=(None, 2), dtype=float32)', 'tf.Tensor(shape=(None, None), dtype=float32)']\n  • mask=['None', 'None']",
     "output_type": "error",
     "traceback": [
      "\u001b[0;31m---------------------------------------------------------------------------\u001b[0m",
      "\u001b[0;31mValueError\u001b[0m                                Traceback (most recent call last)",
      "Cell \u001b[0;32mIn[72], line 2\u001b[0m\n\u001b[1;32m      1\u001b[0m \u001b[38;5;66;03m# Train the model (for demonstration purposes)\u001b[39;00m\n\u001b[0;32m----> 2\u001b[0m \u001b[43mmodel\u001b[49m\u001b[38;5;241;43m.\u001b[39;49m\u001b[43mfit\u001b[49m\u001b[43m(\u001b[49m\u001b[43mformat_loader\u001b[49m\u001b[43m(\u001b[49m\u001b[43mloader\u001b[49m\u001b[43m)\u001b[49m\u001b[43m,\u001b[49m\u001b[43m \u001b[49m\u001b[43mepochs\u001b[49m\u001b[38;5;241;43m=\u001b[39;49m\u001b[38;5;241;43m10\u001b[39;49m\u001b[43m)\u001b[49m\n",
      "File \u001b[0;32m~/anaconda3/envs/Master/lib/python3.12/site-packages/keras/src/utils/traceback_utils.py:122\u001b[0m, in \u001b[0;36mfilter_traceback.<locals>.error_handler\u001b[0;34m(*args, **kwargs)\u001b[0m\n\u001b[1;32m    119\u001b[0m     filtered_tb \u001b[38;5;241m=\u001b[39m _process_traceback_frames(e\u001b[38;5;241m.\u001b[39m__traceback__)\n\u001b[1;32m    120\u001b[0m     \u001b[38;5;66;03m# To get the full stack trace, call:\u001b[39;00m\n\u001b[1;32m    121\u001b[0m     \u001b[38;5;66;03m# `keras.config.disable_traceback_filtering()`\u001b[39;00m\n\u001b[0;32m--> 122\u001b[0m     \u001b[38;5;28;01mraise\u001b[39;00m e\u001b[38;5;241m.\u001b[39mwith_traceback(filtered_tb) \u001b[38;5;28;01mfrom\u001b[39;00m \u001b[38;5;28;01mNone\u001b[39;00m\n\u001b[1;32m    123\u001b[0m \u001b[38;5;28;01mfinally\u001b[39;00m:\n\u001b[1;32m    124\u001b[0m     \u001b[38;5;28;01mdel\u001b[39;00m filtered_tb\n",
      "Cell \u001b[0;32mIn[65], line 30\u001b[0m, in \u001b[0;36mEdgeFeatureGCN.call\u001b[0;34m(self, inputs)\u001b[0m\n\u001b[1;32m     27\u001b[0m a \u001b[38;5;241m=\u001b[39m tf\u001b[38;5;241m.\u001b[39mcast(a, tf\u001b[38;5;241m.\u001b[39mfloat32)\n\u001b[1;32m     29\u001b[0m \u001b[38;5;66;03m# GCN layers\u001b[39;00m\n\u001b[0;32m---> 30\u001b[0m h \u001b[38;5;241m=\u001b[39m \u001b[38;5;28;43mself\u001b[39;49m\u001b[38;5;241;43m.\u001b[39;49m\u001b[43mgcn1\u001b[49m\u001b[43m(\u001b[49m\u001b[43m[\u001b[49m\u001b[43mx\u001b[49m\u001b[43m,\u001b[49m\u001b[43m \u001b[49m\u001b[43ma\u001b[49m\u001b[43m]\u001b[49m\u001b[43m)\u001b[49m\n\u001b[1;32m     31\u001b[0m h \u001b[38;5;241m=\u001b[39m \u001b[38;5;28mself\u001b[39m\u001b[38;5;241m.\u001b[39mgcn2([h, a])\n\u001b[1;32m     33\u001b[0m \u001b[38;5;66;03m# Predict edge features using node embeddings\u001b[39;00m\n",
      "File \u001b[0;32m~/anaconda3/envs/Master/lib/python3.12/site-packages/spektral/layers/convolutional/conv.py:74\u001b[0m, in \u001b[0;36mcheck_dtypes_decorator.<locals>._inner_check_dtypes\u001b[0;34m(inputs, **kwargs)\u001b[0m\n\u001b[1;32m     71\u001b[0m \u001b[38;5;129m@wraps\u001b[39m(call)\n\u001b[1;32m     72\u001b[0m \u001b[38;5;28;01mdef\u001b[39;00m \u001b[38;5;21m_inner_check_dtypes\u001b[39m(inputs, \u001b[38;5;241m*\u001b[39m\u001b[38;5;241m*\u001b[39mkwargs):\n\u001b[1;32m     73\u001b[0m     inputs \u001b[38;5;241m=\u001b[39m check_dtypes(inputs)\n\u001b[0;32m---> 74\u001b[0m     \u001b[38;5;28;01mreturn\u001b[39;00m \u001b[43mcall\u001b[49m\u001b[43m(\u001b[49m\u001b[43minputs\u001b[49m\u001b[43m,\u001b[49m\u001b[43m \u001b[49m\u001b[38;5;241;43m*\u001b[39;49m\u001b[38;5;241;43m*\u001b[39;49m\u001b[43mkwargs\u001b[49m\u001b[43m)\u001b[49m\n",
      "File \u001b[0;32m~/anaconda3/envs/Master/lib/python3.12/site-packages/spektral/layers/convolutional/gcn_conv.py:106\u001b[0m, in \u001b[0;36mGCNConv.call\u001b[0;34m(self, inputs, mask)\u001b[0m\n\u001b[1;32m    104\u001b[0m     output \u001b[38;5;241m=\u001b[39m K\u001b[38;5;241m.\u001b[39mbias_add(output, \u001b[38;5;28mself\u001b[39m\u001b[38;5;241m.\u001b[39mbias)\n\u001b[1;32m    105\u001b[0m \u001b[38;5;28;01mif\u001b[39;00m mask \u001b[38;5;129;01mis\u001b[39;00m \u001b[38;5;129;01mnot\u001b[39;00m \u001b[38;5;28;01mNone\u001b[39;00m:\n\u001b[0;32m--> 106\u001b[0m     \u001b[43moutput\u001b[49m\u001b[43m \u001b[49m\u001b[38;5;241;43m*\u001b[39;49m\u001b[38;5;241;43m=\u001b[39;49m\u001b[43m \u001b[49m\u001b[43mmask\u001b[49m\u001b[43m[\u001b[49m\u001b[38;5;241;43m0\u001b[39;49m\u001b[43m]\u001b[49m\n\u001b[1;32m    107\u001b[0m output \u001b[38;5;241m=\u001b[39m \u001b[38;5;28mself\u001b[39m\u001b[38;5;241m.\u001b[39mactivation(output)\n\u001b[1;32m    109\u001b[0m \u001b[38;5;28;01mreturn\u001b[39;00m output\n",
      "\u001b[0;31mValueError\u001b[0m: Exception encountered when calling GCNConv.call().\n\n\u001b[1mTried to convert 'y' to a tensor and failed. Error: None values not supported.\u001b[0m\n\nArguments received by GCNConv.call():\n  • inputs=['tf.Tensor(shape=(None, 2), dtype=float32)', 'tf.Tensor(shape=(None, None), dtype=float32)']\n  • mask=['None', 'None']"
     ]
    }
   ],
   "source": [
    "\n",
    "# Train the model (for demonstration purposes)\n",
    "model.fit(format_loader(loader), epochs=10)"
   ]
  }
 ],
 "metadata": {
  "kernelspec": {
   "display_name": "Master",
   "language": "python",
   "name": "python3"
  },
  "language_info": {
   "codemirror_mode": {
    "name": "ipython",
    "version": 3
   },
   "file_extension": ".py",
   "mimetype": "text/x-python",
   "name": "python",
   "nbconvert_exporter": "python",
   "pygments_lexer": "ipython3",
   "version": "3.12.4"
  }
 },
 "nbformat": 4,
 "nbformat_minor": 2
}
